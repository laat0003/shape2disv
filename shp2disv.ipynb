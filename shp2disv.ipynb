{
 "cells": [
  {
   "cell_type": "code",
   "execution_count": 5,
   "id": "7c25c54d-f86c-46b3-8a7a-013710721d1e",
   "metadata": {},
   "outputs": [
    {
     "name": "stdout",
     "output_type": "stream",
     "text": [
      "GeoPandas version = 0.14.3\n",
      "Numpy version = 1.26.4\n",
      "Flopy version = 3.6.0\n"
     ]
    }
   ],
   "source": [
    "import os\n",
    "import geopandas as gpd\n",
    "import numpy as np\n",
    "import flopy\n",
    "from flopy.utils.cvfdutil import get_disv_gridprops, shapefile_to_cvfd, to_cvfd, shapefile_to_xcyc\n",
    "print(f\"GeoPandas version = {gpd.__version__}\")\n",
    "print(f\"Numpy version = {np.__version__}\")\n",
    "print(f\"Flopy version = {flopy.__version__}\")"
   ]
  },
  {
   "cell_type": "code",
   "execution_count": 2,
   "id": "66c23980-05e8-457a-8b85-b603cf78b6f3",
   "metadata": {},
   "outputs": [],
   "source": [
    "gis_f = os.path.join('disv_shapefiles') "
   ]
  },
  {
   "cell_type": "code",
   "execution_count": 4,
   "id": "ed7d561a-e2c9-433a-a27d-7cd73e7b2bab",
   "metadata": {},
   "outputs": [],
   "source": [
    "poly = gpd.read_file(os.path.join(gis_f,'mesh.shp')).geometry"
   ]
  },
  {
   "cell_type": "markdown",
   "id": "dcf4a137-d4fc-4557-9ae5-0be4b486c300",
   "metadata": {},
   "source": [
    "## xcyc from geopandas"
   ]
  },
  {
   "cell_type": "code",
   "execution_count": 69,
   "id": "74947d3d-fd9c-442d-8ac7-764900827276",
   "metadata": {},
   "outputs": [],
   "source": [
    "xcyc = []\n",
    "for geom in poly.geometry:\n",
    "    x=geom.centroid.x\n",
    "    y=geom.centroid.y\n",
    "    xcyc.append((x,y))\n",
    "xcyc=np.asarray(xcyc)"
   ]
  },
  {
   "cell_type": "markdown",
   "id": "448285bd-5080-41ef-84cb-89a17b366a1f",
   "metadata": {},
   "source": [
    "## xcyc from cvfd_utils"
   ]
  },
  {
   "cell_type": "code",
   "execution_count": 90,
   "id": "497346c5-5848-4568-bbd2-8a49c4941a56",
   "metadata": {},
   "outputs": [
    {
     "name": "stdout",
     "output_type": "stream",
     "text": [
      "Translating shapefile (disv_shapefiles\\mesh.shp) into cell centroids\n"
     ]
    }
   ],
   "source": [
    "xcyc_flopy = shapefile_to_xcyc(os.path.join(gis_f,'mesh.shp'))"
   ]
  },
  {
   "cell_type": "markdown",
   "id": "7aa62f11-a5c0-4a5b-87a8-3f51f87d161a",
   "metadata": {},
   "source": [
    "## Checking absolute differences"
   ]
  },
  {
   "cell_type": "code",
   "execution_count": 98,
   "id": "c3a01127-c3fc-4002-b1c7-6357e4ffdb9d",
   "metadata": {},
   "outputs": [
    {
     "data": {
      "text/plain": [
       "234.71640615630895"
      ]
     },
     "execution_count": 98,
     "metadata": {},
     "output_type": "execute_result"
    }
   ],
   "source": [
    "abs_diff = np.abs(xcyc-xcyc_flopy)\n",
    "np.max(abs_diff)"
   ]
  },
  {
   "cell_type": "markdown",
   "id": "2b1b83f0-94f3-44f4-9328-f7fa841578c2",
   "metadata": {},
   "source": [
    "## thats a big difference "
   ]
  },
  {
   "cell_type": "code",
   "execution_count": null,
   "id": "3ab058b2-afc0-462f-a752-eed26b59e09f",
   "metadata": {},
   "outputs": [],
   "source": []
  }
 ],
 "metadata": {
  "kernelspec": {
   "display_name": "Python 3 (ipykernel)",
   "language": "python",
   "name": "python3"
  },
  "language_info": {
   "codemirror_mode": {
    "name": "ipython",
    "version": 3
   },
   "file_extension": ".py",
   "mimetype": "text/x-python",
   "name": "python",
   "nbconvert_exporter": "python",
   "pygments_lexer": "ipython3",
   "version": "3.10.13"
  }
 },
 "nbformat": 4,
 "nbformat_minor": 5
}
